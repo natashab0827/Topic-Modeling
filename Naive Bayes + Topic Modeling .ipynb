{
 "cells": [
  {
   "cell_type": "code",
   "execution_count": 285,
   "metadata": {},
   "outputs": [],
   "source": [
    "import pandas as pd \n",
    "import os\n",
    "from sklearn.feature_extraction.text import CountVectorizer\n",
    "import numpy as np\n",
    "\n",
    "data = pd.read_csv('/Users/natasha246/Documents/questions_list_users_sorted.csv', delimiter = ',')\n",
    "df = pd.DataFrame(data)"
   ]
  },
  {
   "cell_type": "code",
   "execution_count": 286,
   "metadata": {},
   "outputs": [],
   "source": [
    "ind = 0\n",
    "questions = []\n",
    "y = []\n",
    "while ind!=500: \n",
    "    questions.append(data.iloc[ind, 4])\n",
    "    y.append(data.iloc[ind,9])\n",
    "    ind+=1    \n",
    "y = np.array(y)\n",
    "vectorizer = CountVectorizer()\n",
    "X = vectorizer.fit_transform(questions)"
   ]
  },
  {
   "cell_type": "code",
   "execution_count": 287,
   "metadata": {},
   "outputs": [],
   "source": [
    "import numpy as np\n",
    "import csv\n",
    "from gensim import corpora, models\n",
    "from gensim.corpora import Dictionary\n",
    "from gensim.models import ldamodel\n",
    "from collections import defaultdict\n",
    "import spacy\n",
    "spacy.load('en')\n",
    "from spacy.lang.en import English\n",
    "parser = English()"
   ]
  },
  {
   "cell_type": "code",
   "execution_count": 288,
   "metadata": {},
   "outputs": [],
   "source": [
    "def tokenize(text):\n",
    "    lda_tokens = []\n",
    "    tokens = parser(text)\n",
    "    for token in tokens:\n",
    "        if token.orth_.isspace():\n",
    "            continue\n",
    "        else:\n",
    "            lda_tokens.append(token.lower_)\n",
    "    return lda_tokens"
   ]
  },
  {
   "cell_type": "code",
   "execution_count": 289,
   "metadata": {},
   "outputs": [],
   "source": [
    "y = []\n",
    "ind = 0 \n",
    "while ind!= 500:\n",
    "    y.append(data.iloc[ind,9])\n",
    "    ind+=1"
   ]
  },
  {
   "cell_type": "code",
   "execution_count": 290,
   "metadata": {},
   "outputs": [],
   "source": [
    "lol_users = defaultdict(list)\n",
    "\n",
    "for line in csv.DictReader(open('/Users/natasha246/Documents/questions_list_users_sorted.csv')):\n",
    "    lol_users[line['User']] += tokenize(line['Text'])   \n",
    "text_data = lol_users.values()\n",
    "\n",
    "dictionary = Dictionary(text_data)\n",
    "corpus = [dictionary.doc2bow(text) for text in text_data]\n",
    "numtop = 10\n",
    "model = ldamodel.LdaModel(corpus, id2word=dictionary, num_topics=numtop)\n",
    "\n",
    "\n",
    "lol_ = []\n",
    "tm = []\n",
    "users = []\n",
    "for k, v in lol_users.items():\n",
    "    bow = dictionary.doc2bow(v)\n",
    "    doc_topics, word_topics, phi_values = model.get_document_topics(bow, per_word_topics=True)\n",
    "    #print(k, doc_topics) \n",
    "    users.append(k)\n",
    "    arr = [0] * numtop\n",
    "    for tuple in doc_topics:\n",
    "        index,prob = tuple\n",
    "        arr[index] = prob\n",
    "    lol_.append(arr)    "
   ]
  },
  {
   "cell_type": "code",
   "execution_count": 291,
   "metadata": {},
   "outputs": [],
   "source": [
    "tm = []\n",
    "counter = 0\n",
    "ind = 0\n",
    "for user in users:\n",
    "    count = 0\n",
    "    for line in csv.DictReader(open('/Users/natasha246/Documents/questions_list_users_sorted.csv')):\n",
    "        if user == line['User']:\n",
    "            count+=1\n",
    "    i = 0\n",
    "    while i!=count:\n",
    "        tm.append(lol_[ind])\n",
    "        i+=1\n",
    "    ind +=1   "
   ]
  },
  {
   "cell_type": "code",
   "execution_count": 292,
   "metadata": {},
   "outputs": [],
   "source": [
    "matrix = np.hstack((X.toarray(), tm))"
   ]
  },
  {
   "cell_type": "code",
   "execution_count": 293,
   "metadata": {},
   "outputs": [
    {
     "name": "stdout",
     "output_type": "stream",
     "text": [
      "TRAIN: [  0   1   3   4   6   7   8   9  10  11  12  13  15  16  17  18  19  20\n",
      "  21  22  23  24  25  26  27  28  29  30  31  32  33  34  35  36  38  39\n",
      "  40  41  42  43  44  45  46  47  49  50  51  52  53  54  55  56  58  59\n",
      "  60  61  62  63  64  65  66  68  69  70  71  72  73  74  75  76  77  78\n",
      "  79  80  81  82  83  87  88  89  90  91  92  93  94  95  96  97  98 100\n",
      " 101 102 103 104 105 107 108 109 110 111 113 114 115 116 117 118 119 120\n",
      " 121 122 123 124 125 126 127 128 129 130 131 132 133 134 136 137 138 139\n",
      " 141 142 143 144 146 147 148 149 151 152 153 154 155 156 157 158 159 160\n",
      " 161 163 164 165 166 168 169 170 171 173 174 175 176 177 178 179 180 181\n",
      " 182 183 184 186 187 188 189 191 192 193 194 195 196 197 198 199 200 201\n",
      " 202 203 204 205 206 207 208 210 211 212 215 216 217 218 220 221 222 223\n",
      " 224 225 226 227 228 230 232 233 234 235 236 237 240 241 242 243 244 245\n",
      " 246 247 248 249 250 251 252 253 254 255 256 257 258 259 261 262 263 264\n",
      " 265 266 267 268 270 271 272 273 276 277 278 279 281 282 283 284 285 286\n",
      " 287 289 290 291 292 293 294 295 296 297 298 299 300 301 303 304 305 306\n",
      " 307 308 309 310 311 312 313 314 315 316 317 318 319 320 321 322 323 324\n",
      " 325 326 328 329 330 331 332 333 335 336 337 338 339 340 341 342 343 344\n",
      " 345 346 347 348 350 351 352 353 354 355 356 357 358 359 360 361 362 363\n",
      " 364 365 366 367 368 369 370 371 372 374 375 376 377 378 379 380 381 382\n",
      " 383 386 387 389 390 391 392 393 394 395 396 397 398 400 401 402 403 404\n",
      " 405 406 407 408 409 410 411 413 414 415 416 417 418 419 420 421 422 423\n",
      " 424 425 426 427 429 430 431 432 433 434 435 436 437 439 440 441 442 443\n",
      " 445 446 447 448 449 450 451 452 453 454 455 456 457 458 459 461 462 463\n",
      " 464 465 466 467 468 469 470 471 472 473 474 475 476 477 478 479 480 481\n",
      " 482 483 484 485 486 487 488 489 490 491 492 493 494 495 496 497 498 499] TEST: [  2   5  14  37  48  57  67  84  85  86  99 106 112 135 140 145 150 162\n",
      " 167 172 185 190 209 213 214 219 229 231 238 239 260 269 274 275 280 288\n",
      " 302 327 334 349 373 384 385 388 399 412 428 438 444 460]\n"
     ]
    },
    {
     "ename": "TypeError",
     "evalue": "only integer scalar arrays can be converted to a scalar index",
     "output_type": "error",
     "traceback": [
      "\u001b[0;31m---------------------------------------------------------------------------\u001b[0m",
      "\u001b[0;31mTypeError\u001b[0m                                 Traceback (most recent call last)",
      "\u001b[0;32m<ipython-input-293-ac486cfe1227>\u001b[0m in \u001b[0;36m<module>\u001b[0;34m\u001b[0m\n\u001b[1;32m     11\u001b[0m     \u001b[0mprint\u001b[0m\u001b[0;34m(\u001b[0m\u001b[0;34m\"TRAIN:\"\u001b[0m\u001b[0;34m,\u001b[0m \u001b[0mtrain_index\u001b[0m\u001b[0;34m,\u001b[0m \u001b[0;34m\"TEST:\"\u001b[0m\u001b[0;34m,\u001b[0m \u001b[0mtest_index\u001b[0m\u001b[0;34m)\u001b[0m\u001b[0;34m\u001b[0m\u001b[0;34m\u001b[0m\u001b[0m\n\u001b[1;32m     12\u001b[0m     \u001b[0mX_train\u001b[0m\u001b[0;34m,\u001b[0m \u001b[0mX_test\u001b[0m \u001b[0;34m=\u001b[0m \u001b[0mmatrix\u001b[0m\u001b[0;34m[\u001b[0m\u001b[0mtrain_index\u001b[0m\u001b[0;34m]\u001b[0m\u001b[0;34m,\u001b[0m \u001b[0mmatrix\u001b[0m\u001b[0;34m[\u001b[0m\u001b[0mtest_index\u001b[0m\u001b[0;34m]\u001b[0m\u001b[0;34m\u001b[0m\u001b[0;34m\u001b[0m\u001b[0m\n\u001b[0;32m---> 13\u001b[0;31m     \u001b[0my_train\u001b[0m\u001b[0;34m,\u001b[0m \u001b[0my_test\u001b[0m \u001b[0;34m=\u001b[0m \u001b[0my\u001b[0m\u001b[0;34m[\u001b[0m\u001b[0mtrain_index\u001b[0m\u001b[0;34m]\u001b[0m\u001b[0;34m,\u001b[0m \u001b[0my\u001b[0m\u001b[0;34m[\u001b[0m\u001b[0mtest_index\u001b[0m\u001b[0;34m]\u001b[0m\u001b[0;34m\u001b[0m\u001b[0;34m\u001b[0m\u001b[0m\n\u001b[0m\u001b[1;32m     14\u001b[0m     \u001b[0mmodel\u001b[0m\u001b[0;34m.\u001b[0m\u001b[0mfit\u001b[0m\u001b[0;34m(\u001b[0m\u001b[0mX_train\u001b[0m\u001b[0;34m,\u001b[0m\u001b[0my_train\u001b[0m\u001b[0;34m)\u001b[0m\u001b[0;34m\u001b[0m\u001b[0;34m\u001b[0m\u001b[0m\n\u001b[1;32m     15\u001b[0m     \u001b[0mpredict\u001b[0m \u001b[0;34m=\u001b[0m \u001b[0mmodel\u001b[0m\u001b[0;34m.\u001b[0m\u001b[0mpredict\u001b[0m\u001b[0;34m(\u001b[0m\u001b[0mX_test\u001b[0m\u001b[0;34m)\u001b[0m\u001b[0;34m\u001b[0m\u001b[0;34m\u001b[0m\u001b[0m\n",
      "\u001b[0;31mTypeError\u001b[0m: only integer scalar arrays can be converted to a scalar index"
     ]
    }
   ],
   "source": [
    "from sklearn.naive_bayes import GaussianNB\n",
    "model = GaussianNB()\n",
    "\n",
    "from sklearn.model_selection import KFold \n",
    "from sklearn import metrics\n",
    "\n",
    "\n",
    "kf = KFold(n_splits = 10, shuffle = True)\n",
    "\n",
    "for train_index, test_index in kf.split(X):\n",
    "    print(\"TRAIN:\", train_index, \"TEST:\", test_index)\n",
    "    X_train, X_test = matrix[train_index], matrix[test_index]\n",
    "    y_train, y_test = y[train_index], y[test_index]\n",
    "    model.fit(X_train,y_train)\n",
    "    predict = model.predict(X_test)\n",
    "    print(\"Accuracy:\", metrics.accuracy_score(y_test, predict)) "
   ]
  },
  {
   "cell_type": "code",
   "execution_count": null,
   "metadata": {},
   "outputs": [],
   "source": []
  }
 ],
 "metadata": {
  "kernelspec": {
   "display_name": "Python 3",
   "language": "python",
   "name": "python3"
  },
  "language_info": {
   "codemirror_mode": {
    "name": "ipython",
    "version": 3
   },
   "file_extension": ".py",
   "mimetype": "text/x-python",
   "name": "python",
   "nbconvert_exporter": "python",
   "pygments_lexer": "ipython3",
   "version": "3.7.1"
  }
 },
 "nbformat": 4,
 "nbformat_minor": 2
}
